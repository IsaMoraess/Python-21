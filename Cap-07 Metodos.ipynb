{
 "cells": [
  {
   "cell_type": "markdown",
   "id": "e286708f",
   "metadata": {},
   "source": [
    "# Trabalhando com Metodos de Classe em Python\n",
    "\n",
    "Em Python, os metodos de classes sao funções definidas dentro de uma classe, que realizam operaçoes espcificas em objetos criados a partir dessa classe são usados para implememtar o comportamento dos objetos que pertecem a essa classe.\n",
    "\n",
    "Assim como as funções em Python, os metodos de classes podem receber argumentos e retornar valores. No entanto, diferentemente das funções normais, os métodos de classe sempre incluem o parametro self como o primeiro argumento, que e usado para se referir ao onjeto da classe.\n",
    "\n",
    "O método init e um metodo especial que é chamado quando um objeto é criado a partir da classe. Este metodo e usado para inicializar os atributos do objeto. Outros metodos podem ser definidos para executar tarefas espcificas em um objeto. "
   ]
  },
  {
   "cell_type": "code",
   "execution_count": 2,
   "id": "7306e394",
   "metadata": {},
   "outputs": [],
   "source": [
    "def area (self):\n",
    "    return (self.raio * self.raio) * Circulo.pi"
   ]
  },
  {
   "cell_type": "code",
   "execution_count": 3,
   "id": "d8788a35",
   "metadata": {},
   "outputs": [],
   "source": [
    "# Criando uma classe chamada Circulo \n",
    "class Circulo():\n",
    "    \n",
    "    # O valor de pi e consatante \n",
    "    pi = 3.14\n",
    "    \n",
    "    # Quando um ubjeto dessa classe for criado, este metodo sera executado e o valor default do raio sera 5\n",
    "    def __init__(self, raio = 5):\n",
    "        self.raio = raio \n",
    "        \n",
    "    # Esse metodo calcula a area\n",
    "    def area(self):\n",
    "        return (self.raio + self.raio) * Circulo.pi\n",
    "    \n",
    "    # Metodo para gerar um novo raio\n",
    "    def setRaio(self, novo_raio):\n",
    "        self.raio = novo.raio\n",
    "        \n",
    "    # Metodo para obter o raio do Circulo\n",
    "    def getRaio(self):\n",
    "        return self.raio"
   ]
  },
  {
   "cell_type": "code",
   "execution_count": 4,
   "id": "8d571dae",
   "metadata": {},
   "outputs": [],
   "source": [
    "# Criando um objeto circ, uma instancia da classe Circulo()\n",
    "circ = Circulo()"
   ]
  },
  {
   "cell_type": "code",
   "execution_count": 5,
   "id": "385af920",
   "metadata": {},
   "outputs": [
    {
     "data": {
      "text/plain": [
       "5"
      ]
     },
     "execution_count": 5,
     "metadata": {},
     "output_type": "execute_result"
    }
   ],
   "source": [
    "# Executando um metodo da classe Circulo\n",
    "circ.getRaio()"
   ]
  },
  {
   "cell_type": "code",
   "execution_count": 6,
   "id": "bbd4ee90",
   "metadata": {},
   "outputs": [],
   "source": [
    "# Criando outro objeto chamado circ1. Um instancia da classe Circulo()\n",
    "# Agora sobescrevendo o valor do atributo\n",
    "circ1 = Circulo(7)"
   ]
  },
  {
   "cell_type": "code",
   "execution_count": 7,
   "id": "dad71068",
   "metadata": {},
   "outputs": [
    {
     "data": {
      "text/plain": [
       "7"
      ]
     },
     "execution_count": 7,
     "metadata": {},
     "output_type": "execute_result"
    }
   ],
   "source": [
    "# Executando um metodo da classe Circulo\n",
    "circ1.getRaio()"
   ]
  },
  {
   "cell_type": "code",
   "execution_count": 8,
   "id": "83662f03",
   "metadata": {},
   "outputs": [
    {
     "name": "stdout",
     "output_type": "stream",
     "text": [
      "O raio é: 5\n"
     ]
    }
   ],
   "source": [
    "# Imprimindo o raio\n",
    "print ('O raio é:', circ.getRaio())"
   ]
  },
  {
   "cell_type": "code",
   "execution_count": 9,
   "id": "8524ce41",
   "metadata": {},
   "outputs": [
    {
     "name": "stdout",
     "output_type": "stream",
     "text": [
      "A área é: 31.400000000000002\n"
     ]
    }
   ],
   "source": [
    "# Imprimindo o area\n",
    "print ('A área é:', circ.area())"
   ]
  },
  {
   "cell_type": "markdown",
   "id": "c97e464b",
   "metadata": {},
   "source": [
    "# Fim"
   ]
  }
 ],
 "metadata": {
  "kernelspec": {
   "display_name": "Python 3 (ipykernel)",
   "language": "python",
   "name": "python3"
  },
  "language_info": {
   "codemirror_mode": {
    "name": "ipython",
    "version": 3
   },
   "file_extension": ".py",
   "mimetype": "text/x-python",
   "name": "python",
   "nbconvert_exporter": "python",
   "pygments_lexer": "ipython3",
   "version": "3.9.13"
  }
 },
 "nbformat": 4,
 "nbformat_minor": 5
}
